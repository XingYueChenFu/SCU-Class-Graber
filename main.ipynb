{
 "cells": [
  {
   "cell_type": "markdown",
   "metadata": {},
   "source": [
    "## 1. 逐步尝试并完成"
   ]
  },
  {
   "cell_type": "markdown",
   "metadata": {},
   "source": [
    "导包"
   ]
  },
  {
   "cell_type": "code",
   "execution_count": null,
   "metadata": {},
   "outputs": [],
   "source": [
    "from selenium import webdriver\n",
    "from selenium.webdriver.edge.service import Service as EdgeService\n",
    "from selenium.webdriver.common.by import By\n",
    "from selenium.webdriver.support.ui import WebDriverWait\n",
    "from selenium.webdriver.support import expected_conditions as EC\n",
    "from selenium.webdriver.common.keys import Keys\n",
    "from selenium.common.exceptions import NoSuchElementException, ElementNotInteractableException\n",
    "\n",
    "from PIL import Image, ImageEnhance\n",
    "from io import BytesIO\n",
    "import base64\n",
    "\n",
    "import time\n",
    "import yaml\n",
    "import ddddocr\n",
    "from utils import BugFree"
   ]
  },
  {
   "cell_type": "markdown",
   "metadata": {},
   "source": [
    "加载配置并初始化"
   ]
  },
  {
   "cell_type": "code",
   "execution_count": 31,
   "metadata": {},
   "outputs": [
    {
     "name": "stdout",
     "output_type": "stream",
     "text": [
      "                                              \n",
      "                    _ooOoo_                   \n",
      "                   o8888888o                  \n",
      "                   88\" . \"88                  \n",
      "                   (| -_- |)                  \n",
      "                    O\\ = /O                   \n",
      "                ____/`---'\\____               \n",
      "              .   ' \\\\| |// `.                \n",
      "               / \\\\||| : |||// \\              \n",
      "             / _||||| -:- |||||- \\            \n",
      "               | | \\\\\\ - /// | |              \n",
      "             | \\_| ''\\---/'' | |              \n",
      "              \\ .-\\__ `-` ___/-. /            \n",
      "           ___`. .' /--.--\\ `. . __           \n",
      "        .\"\" '< `.___\\_<|>_/___.' >'\"\".        \n",
      "       | | : `- \\`.;`\\ _ /`;.`/ - ` : | |     \n",
      "         \\ \\ `-. \\_ __\\ /__ _/ .-` / /        \n",
      " ======`-.____`-.___\\_____/___.-`____.-'======\n",
      "                    `=---='                   \n",
      "                                              \n",
      " .............................................\n",
      "          佛祖保佑             永无BUG              \n",
      "  佛曰:                                         \n",
      "          写字楼里写字间，写字间里程序员；                    \n",
      "          程序人员写程序，又拿程序换酒钱。                    \n",
      "          酒醒只在网上坐，酒醉还来网下眠；                    \n",
      "          酒醉酒醒日复日，网上网下年复年。                    \n",
      "          但愿老死电脑间，不愿鞠躬老板前；                    \n",
      "          奔驰宝马贵者趣，公交自行程序员。                    \n",
      "          别人笑我忒疯癫，我笑自己命太贱；                    \n",
      "          不见满街漂亮妹，哪个归得程序员？                    \n"
     ]
    }
   ],
   "source": [
    "# 读取配置文件\n",
    "config = yaml.load(open('config.yaml', 'r', encoding='utf-8'), Loader=yaml.FullLoader)\n",
    "# https://id.scu.edu.cn/enduser/sp/sso/scdxplugin_jwt23?enterpriseId=scdx&target_url=index\n",
    "\n",
    "loading_sleep_time = config['loading_sleep_time'] # 设置加载等待时间\n",
    "jumping_wait_time = config['jumping_wait_time'] # 设置跳转等待时间\n",
    "driver_path = config['driver_path'] # 设置Edge浏览器驱动路径\n",
    "\n",
    "bugfree = BugFree(config=config['bugfree']) # 初始化BugFree实例\n",
    "bugfree()\n",
    "\n",
    "ocr = ddddocr.DdddOcr(show_ad=False) # 初始化识别器"
   ]
  },
  {
   "cell_type": "code",
   "execution_count": null,
   "metadata": {},
   "outputs": [],
   "source": [
    "edge_service = EdgeService(executable_path=driver_path) # 创建EdgeService实例\n",
    "driver = webdriver.Edge(service=edge_service) # 创建Edge浏览器实例"
   ]
  },
  {
   "cell_type": "markdown",
   "metadata": {},
   "source": [
    "打开川大教务管理系统的登录页面，切换到统一登录"
   ]
  },
  {
   "cell_type": "code",
   "execution_count": 3,
   "metadata": {},
   "outputs": [
    {
     "name": "stdout",
     "output_type": "stream",
     "text": [
      "\u001b[1;34m[info]\u001b[0m 已经打开网站: 登录 并等待2s，以便加载网页内容\n",
      "\u001b[1;32m[info]\u001b[0m 已点击 \"跳转统一认证\" 链接！\n"
     ]
    }
   ],
   "source": [
    "# 打开目标网站\n",
    "driver.get('http://zhjw.scu.edu.cn/login')\n",
    "# print(f'\\033[1;34m[info]\\033[0m 已经打开网站: {driver.title} ')\n",
    "print(f'\\033[1;34m[info]\\033[0m 已经打开网站: {driver.title} 并等待{loading_sleep_time}s，以便加载网页内容')\n",
    "time.sleep(loading_sleep_time)\n",
    "# 查找并点击 title 为 \"跳转统一认证\" 的 <a> 标签\n",
    "try:\n",
    "    link = WebDriverWait(driver, jumping_wait_time).until( # 使用 XPATH 定位\n",
    "        EC.presence_of_element_located((By.XPATH, '//a[@title=\"跳转统一认证\"]'))\n",
    "    )\n",
    "    link.click()\n",
    "    print(f'\\033[1;32m[info]\\033[0m 已点击 \"跳转统一认证\" 链接！')\n",
    "except Exception as e:\n",
    "    print(f'\\033[1;31m[Error]\\033[0m 超过{jumping_wait_time}秒，等待 \"跳转统一认证\" 链接加载失败：{e}')\n",
    "    raise e"
   ]
  },
  {
   "cell_type": "markdown",
   "metadata": {},
   "source": [
    "打开\"四川大学统一身份认证\"的登录页面，并登录"
   ]
  },
  {
   "cell_type": "code",
   "execution_count": 4,
   "metadata": {},
   "outputs": [
    {
     "name": "stdout",
     "output_type": "stream",
     "text": [
      "\u001b[1;32m[Success]\u001b[0m 成功跳转，跳转后的页面标题：四川大学统一身份认证\n",
      "\u001b[1;32m[info]\u001b[0m 识别验证码为：DTNx\n",
      "\u001b[1;32m[info]\u001b[0m 已填写用户名、密码和验证码！\n",
      "\u001b[1;32m[info]\u001b[0m 已点击登录按钮！\n"
     ]
    }
   ],
   "source": [
    "# 等待跳转后的页面加载完成\n",
    "try:\n",
    "    WebDriverWait(driver, jumping_wait_time).until(EC.title_contains(\"四川大学统一身份认证\")) # 跳转后的页面标题包含 \"四川大学统一身份认证\"\n",
    "    page_source = driver.page_source\n",
    "    print(f'\\033[1;32m[Success]\\033[0m 成功跳转，跳转后的页面标题：{driver.title}')\n",
    "except Exception as e:\n",
    "    print(f'\\033[1;31m[Error]\\033[0m 超过{jumping_wait_time}秒，等待跳转后的页面加载失败：{e}')\n",
    "    raise e\n",
    "\n",
    "username_input = driver.find_element(By.XPATH, '//input[@placeholder=\"请输入学(工)号\"]')\n",
    "password_input = driver.find_element(By.XPATH, '//input[@placeholder=\"请输入密码\"]')\n",
    "captcha_input = driver.find_element(By.XPATH, '//input[@placeholder=\"请输入验证码\"]')\n",
    "captcha_img = driver.find_element(By.CLASS_NAME, 'captcha-img')\n",
    "captcha_src = captcha_img.get_attribute('src')\n",
    "\n",
    "captcha_base64 = captcha_src.split(',')[1] # 去掉 Base64 数据的前缀（如 \"data:image/png;base64,\"）\n",
    "captcha_image = Image.open(BytesIO(base64.b64decode(captcha_base64))) # 解码 Base64 数据\n",
    "check_code = ocr.classification(captcha_image) # 识别验证码\n",
    "print(f'\\033[1;32m[info]\\033[0m 识别验证码为：{check_code}')\n",
    "\n",
    "username_input.send_keys(config['username'])\n",
    "password_input.send_keys(config['password'])\n",
    "captcha_input.send_keys(check_code)\n",
    "print(f'\\033[1;32m[info]\\033[0m 已填写用户名、密码和验证码！')\n",
    "\n",
    "login_button = driver.find_element(By.CSS_SELECTOR, 'button.login-btn')\n",
    "login_button.click()\n",
    "print(f'\\033[1;32m[info]\\033[0m 已点击登录按钮！')\n"
   ]
  },
  {
   "cell_type": "markdown",
   "metadata": {},
   "source": [
    "打开\"URP高校教学管理与服务平台（学生）\"的界面，并进入到\"选课界面\""
   ]
  },
  {
   "cell_type": "code",
   "execution_count": 5,
   "metadata": {},
   "outputs": [
    {
     "name": "stdout",
     "output_type": "stream",
     "text": [
      "\u001b[1;34m[info]\u001b[0m 跳转成功，当前页面标题：URP高校教学管理与服务平台（学生）\n"
     ]
    }
   ],
   "source": [
    "# 等待跳转后的页面加载完成\n",
    "try:\n",
    "    WebDriverWait(driver, jumping_wait_time).until(EC.title_contains(\"URP高校教学管理与服务平台\")) # \"URP高校教学管理与服务平台（学生）\"\n",
    "    print(f'\\033[1;34m[info]\\033[0m 跳转成功，当前页面标题：{driver.title}')\n",
    "except Exception as e:\n",
    "    print(f'\\033[1;31m[Error]\\033[0m 超过{jumping_wait_time}秒，等待跳转后的页面加载失败：{e}')\n",
    "    raise e"
   ]
  },
  {
   "cell_type": "markdown",
   "metadata": {},
   "source": [
    "<a href=\"#\" class=\"dropdown-toggle\">\n",
    "\t\t\t\t\t<i class=\"menu-icon fa fa-pencil-square-o\"></i>\n",
    "\t\t\t\t\t<span class=\"menu-text\">选课管理\n",
    "\t\t\t\t\t</span>\n",
    "\t\t\t\t\t<b class=\"arrow fa fa-angle-down\"></b>\n",
    "\t\t\t\t</a>"
   ]
  },
  {
   "cell_type": "code",
   "execution_count": 19,
   "metadata": {},
   "outputs": [
    {
     "name": "stdout",
     "output_type": "stream",
     "text": [
      "[info] \"侧边栏伸缩按钮\"可点击\n",
      "[info] 已点击\"侧边栏伸缩按钮\"，将等待2s，以便渲染网页内容\n"
     ]
    }
   ],
   "source": [
    "# 查找按钮\n",
    "try:\n",
    "    menu_toggler_button = driver.find_element(By.ID, 'menu-toggler')\n",
    "    \n",
    "    # 检查按钮是否可点击\n",
    "    if menu_toggler_button.is_enabled() and menu_toggler_button.is_displayed():\n",
    "        print(f'\\033[1;34m[info]\\033[0m \"侧边栏伸缩按钮\"可点击')\n",
    "        menu_toggler_button.click()\n",
    "        print(f'\\033[1;34m[info]\\033[0m 已点击\"侧边栏伸缩按钮\"，将等待{loading_sleep_time}s，以便渲染网页内容')\n",
    "        time.sleep(loading_sleep_time)\n",
    "    else:\n",
    "        print(f'\\033[1;33m[warning]\\033[0m \"侧边栏伸缩按钮\"不可点击或被隐藏')\n",
    "except Exception as e:\n",
    "    print(f'\\033[1;31m[info]\\033[0m 未找到\"侧边栏伸缩按钮\"或操作失败：{e}')\n",
    "    raise e\n",
    "    \n",
    "# 查找按钮"
   ]
  },
  {
   "cell_type": "code",
   "execution_count": 20,
   "metadata": {},
   "outputs": [
    {
     "name": "stdout",
     "output_type": "stream",
     "text": [
      "[info] \"选课管理\"链接可点击\n",
      "[info] 已点击\"选课管理\"链接，将等待2s，以便渲染网页内容\n"
     ]
    }
   ],
   "source": [
    "# 查找包含 \"选课管理\" 的 <span>，并定位其父元素 <a> 标签\n",
    "try:\n",
    "    course_management_link = driver.find_element(By.XPATH, '//span[contains(text(), \"选课管理\")]/parent::a')\n",
    "    \n",
    "    # 检查 <a> 标签是否可点击\n",
    "    if course_management_link.is_enabled() and course_management_link.is_displayed():\n",
    "        print(f'\\033[1;34m[info]\\033[0m \"选课管理\"链接可点击')\n",
    "        course_management_link.click()\n",
    "        print(f'\\033[1;34m[info]\\033[0m 已点击\"选课管理\"链接，将等待{loading_sleep_time}s，以便渲染网页内容')\n",
    "        time.sleep(loading_sleep_time)\n",
    "    else:\n",
    "        print(f'\\033[1;33m[warning]\\033[0m \"选课管理\"链接不可点击或被隐藏')\n",
    "except Exception as e:\n",
    "    print(f'\\033[1;31m[Error]\\033[0m 未找到\"选课管理\"链接或操作失败：{e}')\n",
    "    raise e"
   ]
  },
  {
   "cell_type": "code",
   "execution_count": 21,
   "metadata": {},
   "outputs": [
    {
     "name": "stdout",
     "output_type": "stream",
     "text": [
      "[warning] \"选课\"链接不可点击或被隐藏\n"
     ]
    }
   ],
   "source": [
    "# 查找 href 包含 \"/student/courseSelect/courseSelect/index\" 的 <a> 标签\n",
    "try:\n",
    "    course_select_link = driver.find_element(By.XPATH, '//a[contains(@href, \"/student/courseSelect/courseSelect/index\")]')\n",
    "    \n",
    "    # 检查链接是否可点击\n",
    "    if course_select_link.is_enabled() and course_select_link.is_displayed():\n",
    "        print(f'\\033[1;34m[info]\\033[0m \"选课\"链接可点击')\n",
    "        course_select_link.click()\n",
    "        print(f'\\033[1;34m[info]\\033[0m 已点击\"选课\"链接，将等待{loading_sleep_time}s，以便渲染网页内容')\n",
    "        time.sleep(loading_sleep_time)\n",
    "    else:\n",
    "        print(f'\\033[1;33m[warning]\\033[0m \"选课\"链接不可点击或被隐藏')\n",
    "except Exception as e:\n",
    "    print(f'\\033[1;31m[Error]\\033[0m 未找到\"选课\"链接或操作失败：{e}')"
   ]
  },
  {
   "cell_type": "markdown",
   "metadata": {},
   "source": [
    "```html\n",
    "<div class=\"alert alert-block alert-danger\">\n",
    "    <button type=\"button\" class=\"close\" data-dismiss=\"alert\" onclick=\"closeaApplyModel();return false;\">\n",
    "        <i class=\"ace-icon fa fa-times\"></i>\n",
    "    </button>\n",
    "    <i class=\"ace-icon fa fa-exclamation-triangle red\"></i>\n",
    "    对不起，当前为非选课阶段！\n",
    "</div>\n",
    "```"
   ]
  },
  {
   "cell_type": "code",
   "execution_count": 40,
   "metadata": {},
   "outputs": [
    {
     "name": "stdout",
     "output_type": "stream",
     "text": [
      "[info] 找到提示信息框\n"
     ]
    },
    {
     "name": "stdout",
     "output_type": "stream",
     "text": [
      "[info] 提示信息内容：对不起，当前为非选课阶段！\n",
      "[info] 该提示信息有 可见并可点击的 关闭按钮\n",
      "[Error] 发生异常：对不起，当前为非选课阶段！ 并不是脚本出错了！\n"
     ]
    },
    {
     "ename": "Exception",
     "evalue": "对不起，当前为非选课阶段！ \u001b[33m并不是脚本出错了！\u001b[0m",
     "output_type": "error",
     "traceback": [
      "\u001b[1;31m---------------------------------------------------------------------------\u001b[0m",
      "\u001b[1;31mException\u001b[0m                                 Traceback (most recent call last)",
      "Cell \u001b[1;32mIn[40], line 18\u001b[0m\n\u001b[0;32m     16\u001b[0m     \u001b[38;5;66;03m# 抛出异常，内容为提示信息\u001b[39;00m\n\u001b[0;32m     17\u001b[0m     e \u001b[38;5;241m=\u001b[39m alert_div\u001b[38;5;241m.\u001b[39mtext\u001b[38;5;241m.\u001b[39mstrip()\n\u001b[1;32m---> 18\u001b[0m     \u001b[38;5;28;01mraise\u001b[39;00m \u001b[38;5;167;01mException\u001b[39;00m(\u001b[38;5;124mf\u001b[39m\u001b[38;5;124m\"\u001b[39m\u001b[38;5;132;01m{\u001b[39;00me\u001b[38;5;132;01m}\u001b[39;00m\u001b[38;5;124m \u001b[39m\u001b[38;5;130;01m\\033\u001b[39;00m\u001b[38;5;124m[33m并不是脚本出错了！\u001b[39m\u001b[38;5;130;01m\\033\u001b[39;00m\u001b[38;5;124m[0m\u001b[39m\u001b[38;5;124m\"\u001b[39m)\n\u001b[0;32m     19\u001b[0m \u001b[38;5;28;01melse\u001b[39;00m:\n\u001b[0;32m     20\u001b[0m     \u001b[38;5;28mprint\u001b[39m(\u001b[38;5;124mf\u001b[39m\u001b[38;5;124m'\u001b[39m\u001b[38;5;130;01m\\033\u001b[39;00m\u001b[38;5;124m[1;33m[warning]\u001b[39m\u001b[38;5;130;01m\\033\u001b[39;00m\u001b[38;5;124m[0m 关闭按钮不可点击或被隐藏\u001b[39m\u001b[38;5;124m'\u001b[39m)\n",
      "\u001b[1;31mException\u001b[0m: 对不起，当前为非选课阶段！ \u001b[33m并不是脚本出错了！\u001b[0m"
     ]
    }
   ],
   "source": [
    "try:\n",
    "    # 查找 class 为 \"alert alert-block alert-danger\" 的 <div> 标签\n",
    "    alert_div = driver.find_element(By.CLASS_NAME, 'alert.alert-block.alert-danger')\n",
    "    print(f'\\033[1;34m[info]\\033[0m 找到提示信息框')\n",
    "\n",
    "    # 检查 <div> 的内容是否包含 \"对不起，当前为非选课阶段！\"\n",
    "    if \"对不起，当前为非选课阶段！\" in alert_div.text:\n",
    "        print(f'\\033[1;34m[info]\\033[0m 提示信息内容：\\033[31m{alert_div.text.strip()}\\033[0m')\n",
    "\n",
    "        # 查找 <div> 中的关闭按钮\n",
    "        close_button = alert_div.find_element(By.XPATH, './/button[@type=\"button\" and contains(@class, \"close\")]')\n",
    "        \n",
    "        # 检查按钮是否可点击\n",
    "        if close_button.is_enabled() and close_button.is_displayed():\n",
    "            print(f'\\033[1;34m[info]\\033[0m 该提示信息有 可见并可点击的 关闭按钮')\n",
    "            # 抛出异常，内容为提示信息\n",
    "            e = alert_div.text.strip()\n",
    "            raise Exception(f\"{e} \\033[33m并不是脚本出错了！\\033[0m\")\n",
    "        else:\n",
    "            print(f'\\033[1;33m[warning]\\033[0m 关闭按钮不可点击或被隐藏')\n",
    "    else:\n",
    "        print(f'\\033[1;34m[info]\\033[0m 提示信息框内容不匹配')\n",
    "except NoSuchElementException:\n",
    "    print(f'\\033[1;34m[info]\\033[0m 未找到提示信息框')\n",
    "except ElementNotInteractableException:\n",
    "    print(f'\\033[1;33m[warning]\\033[0m 关闭按钮不可交互')\n",
    "except Exception as e:\n",
    "    print(f'\\033[1;31m[Error]\\033[0m 发生异常：{e}')\n",
    "    raise  # 重新抛出异常\n"
   ]
  }
 ],
 "metadata": {
  "kernelspec": {
   "display_name": "base",
   "language": "python",
   "name": "python3"
  },
  "language_info": {
   "codemirror_mode": {
    "name": "ipython",
    "version": 3
   },
   "file_extension": ".py",
   "mimetype": "text/x-python",
   "name": "python",
   "nbconvert_exporter": "python",
   "pygments_lexer": "ipython3",
   "version": "3.12.7"
  }
 },
 "nbformat": 4,
 "nbformat_minor": 2
}
