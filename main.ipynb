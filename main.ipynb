{
 "cells": [
  {
   "cell_type": "markdown",
   "metadata": {},
   "source": [
    "## 1. 逐步尝试并完成"
   ]
  },
  {
   "cell_type": "markdown",
   "metadata": {},
   "source": [
    "导包"
   ]
  },
  {
   "cell_type": "code",
   "execution_count": 18,
   "metadata": {},
   "outputs": [],
   "source": [
    "from selenium import webdriver\n",
    "from selenium.webdriver.edge.service import Service as EdgeService\n",
    "from selenium.webdriver.common.by import By\n",
    "from selenium.webdriver.support.ui import WebDriverWait\n",
    "from selenium.webdriver.support import expected_conditions as EC\n",
    "from selenium.webdriver.common.keys import Keys\n",
    "from selenium.common.exceptions import NoSuchElementException, ElementNotInteractableException\n",
    "\n",
    "from PIL import Image, ImageEnhance\n",
    "from io import BytesIO\n",
    "import base64\n",
    "\n",
    "import time\n",
    "import yaml\n",
    "import ddddocr\n",
    "from utils import BugFree"
   ]
  },
  {
   "cell_type": "markdown",
   "metadata": {},
   "source": [
    "加载配置并初始化"
   ]
  },
  {
   "cell_type": "code",
   "execution_count": null,
   "metadata": {},
   "outputs": [
    {
     "name": "stdout",
     "output_type": "stream",
     "text": [
      "                                              \n",
      "                    _ooOoo_                   \n",
      "                   o8888888o                  \n",
      "                   88\" . \"88                  \n",
      "                   (| -_- |)                  \n",
      "                    O\\ = /O                   \n",
      "                ____/`---'\\____               \n",
      "              .   ' \\\\| |// `.                \n",
      "               / \\\\||| : |||// \\              \n",
      "             / _||||| -:- |||||- \\            \n",
      "               | | \\\\\\ - /// | |              \n",
      "             | \\_| ''\\---/'' | |              \n",
      "              \\ .-\\__ `-` ___/-. /            \n",
      "           ___`. .' /--.--\\ `. . __           \n",
      "        .\"\" '< `.___\\_<|>_/___.' >'\"\".        \n",
      "       | | : `- \\`.;`\\ _ /`;.`/ - ` : | |     \n",
      "         \\ \\ `-. \\_ __\\ /__ _/ .-` / /        \n",
      " ======`-.____`-.___\\_____/___.-`____.-'======\n",
      "                    `=---='                   \n",
      "                                              \n",
      " .............................................\n",
      "          佛祖保佑             永无BUG              \n",
      "  佛曰:                                         \n",
      "          写字楼里写字间，写字间里程序员；                    \n",
      "          程序人员写程序，又拿程序换酒钱。                    \n",
      "          酒醒只在网上坐，酒醉还来网下眠；                    \n",
      "          酒醉酒醒日复日，网上网下年复年。                    \n",
      "          但愿老死电脑间，不愿鞠躬老板前；                    \n",
      "          奔驰宝马贵者趣，公交自行程序员。                    \n",
      "          别人笑我忒疯癫，我笑自己命太贱；                    \n",
      "          不见满街漂亮妹，哪个归得程序员？                    \n"
     ]
    }
   ],
   "source": [
    "# 读取配置文件\n",
    "config = yaml.load(open('config.yaml', 'r', encoding='utf-8'), Loader=yaml.FullLoader)\n",
    "\n",
    "render_sleep_time = config['render_sleep_time'] # 设置渲染等待时间\n",
    "loading_sleep_time = config['loading_sleep_time'] # 设置加载等待时间\n",
    "jumping_wait_time = config['jumping_wait_time'] # 设置跳转等待时间\n",
    "driver_path = config['driver_path'] # 设置Edge浏览器驱动路径\n",
    "\n",
    "bugfree = BugFree(config=config['bugfree']) # 初始化BugFree实例\n",
    "bugfree() # 展示BugFree信息\n",
    "\n",
    "ocr = ddddocr.DdddOcr(show_ad=False) # 初始化识别器"
   ]
  },
  {
   "cell_type": "code",
   "execution_count": 20,
   "metadata": {},
   "outputs": [],
   "source": [
    "edge_service = EdgeService(executable_path=driver_path) # 创建EdgeService实例\n",
    "driver = webdriver.Edge(service=edge_service) # 创建Edge浏览器实例"
   ]
  },
  {
   "cell_type": "markdown",
   "metadata": {},
   "source": [
    "打开川大教务管理系统的登录页面，切换到统一登录"
   ]
  },
  {
   "cell_type": "code",
   "execution_count": 21,
   "metadata": {},
   "outputs": [
    {
     "name": "stdout",
     "output_type": "stream",
     "text": [
      "[info] 已经打开网站: 登录 并等待2s，以便加载网页内容\n",
      "[info] 已点击 \"跳转统一认证\" 链接！\n"
     ]
    }
   ],
   "source": [
    "# 打开目标网站\n",
    "driver.get('http://zhjw.scu.edu.cn/login')\n",
    "# print(f'\\033[1;34m[info]\\033[0m 已经打开网站: {driver.title} ')\n",
    "print(f'\\033[1;34m[info]\\033[0m 已经打开网站: {driver.title} 并等待{loading_sleep_time}s，以便加载网页内容')\n",
    "time.sleep(loading_sleep_time)\n",
    "# 查找并点击 title 为 \"跳转统一认证\" 的 <a> 标签\n",
    "try:\n",
    "    link = WebDriverWait(driver, jumping_wait_time).until( # 使用 XPATH 定位\n",
    "        EC.presence_of_element_located((By.XPATH, '//a[@title=\"跳转统一认证\"]'))\n",
    "    )\n",
    "    link.click()\n",
    "    print(f'\\033[1;32m[info]\\033[0m 已点击 \"跳转统一认证\" 链接！')\n",
    "except Exception as e:\n",
    "    print(f'\\033[1;31m[Error]\\033[0m 超过{jumping_wait_time}秒，等待 \"跳转统一认证\" 链接加载失败：{e}')\n",
    "    raise e"
   ]
  },
  {
   "cell_type": "markdown",
   "metadata": {},
   "source": [
    "打开\"四川大学统一身份认证\"的登录页面，并登录"
   ]
  },
  {
   "cell_type": "code",
   "execution_count": 22,
   "metadata": {},
   "outputs": [
    {
     "name": "stdout",
     "output_type": "stream",
     "text": [
      "[Success] 成功跳转，跳转后的页面标题：四川大学统一身份认证\n",
      "[info] 识别验证码为：Dhpj\n",
      "[info] 已填写用户名、密码和验证码！\n",
      "[info] 已点击登录按钮！\n"
     ]
    }
   ],
   "source": [
    "# 等待跳转后的页面加载完成\n",
    "try:\n",
    "    WebDriverWait(driver, jumping_wait_time).until(EC.title_contains(\"四川大学统一身份认证\")) # 跳转后的页面标题包含 \"四川大学统一身份认证\"\n",
    "    page_source = driver.page_source\n",
    "    print(f'\\033[1;32m[Success]\\033[0m 成功跳转，跳转后的页面标题：{driver.title}')\n",
    "except Exception as e:\n",
    "    print(f'\\033[1;31m[Error]\\033[0m 超过{jumping_wait_time}秒，等待跳转后的页面加载失败：{e}')\n",
    "    raise e\n",
    "\n",
    "username_input = driver.find_element(By.XPATH, '//input[@placeholder=\"请输入学(工)号\"]') # 找到用户名输入框\n",
    "password_input = driver.find_element(By.XPATH, '//input[@placeholder=\"请输入密码\"]')     # 找到密码输入框\n",
    "captcha_input = driver.find_element(By.XPATH, '//input[@placeholder=\"请输入验证码\"]')    # 找到验证码输入框\n",
    "captcha_img = driver.find_element(By.CLASS_NAME, 'captcha-img')                         # 找到验证码图片\n",
    "\n",
    "captcha_src = captcha_img.get_attribute('src')\n",
    "captcha_base64 = captcha_src.split(',')[1] # 去掉 Base64 数据的前缀（如 \"data:image/png;base64,\"）\n",
    "captcha_image = Image.open(BytesIO(base64.b64decode(captcha_base64))) # 解码 Base64 数据\n",
    "check_code = ocr.classification(captcha_image) # 识别验证码\n",
    "print(f'\\033[1;32m[info]\\033[0m 识别验证码为：{check_code}')\n",
    "\n",
    "username_input.send_keys(config['username'])\n",
    "password_input.send_keys(config['password'])\n",
    "captcha_input.send_keys(check_code)\n",
    "print(f'\\033[1;32m[info]\\033[0m 已填写用户名、密码和验证码！')\n",
    "\n",
    "login_button = driver.find_element(By.CSS_SELECTOR, 'button.login-btn')\n",
    "login_button.click()\n",
    "print(f'\\033[1;32m[info]\\033[0m 已点击登录按钮！')\n"
   ]
  },
  {
   "cell_type": "markdown",
   "metadata": {},
   "source": [
    "打开\"URP高校教学管理与服务平台（学生）\"的界面"
   ]
  },
  {
   "cell_type": "code",
   "execution_count": 23,
   "metadata": {},
   "outputs": [
    {
     "name": "stdout",
     "output_type": "stream",
     "text": [
      "[info] 跳转成功，当前页面标题：URP高校教学管理与服务平台（学生）\n"
     ]
    }
   ],
   "source": [
    "# 等待跳转后的页面加载完成\n",
    "try:\n",
    "    WebDriverWait(driver, jumping_wait_time).until(EC.title_contains(\"URP高校教学管理与服务平台\")) # \"URP高校教学管理与服务平台（学生）\"\n",
    "    print(f'\\033[1;34m[info]\\033[0m 跳转成功，当前页面标题：{driver.title}')\n",
    "except Exception as e:\n",
    "    print(f'\\033[1;31m[Error]\\033[0m 超过{jumping_wait_time}秒，等待跳转后的页面加载失败：{e}')\n",
    "    raise e"
   ]
  },
  {
   "cell_type": "markdown",
   "metadata": {},
   "source": [
    "（如果被收起）展开侧边伸缩栏"
   ]
  },
  {
   "cell_type": "code",
   "execution_count": null,
   "metadata": {},
   "outputs": [
    {
     "name": "stdout",
     "output_type": "stream",
     "text": [
      "[info] \"侧边栏伸缩按钮\"可点击\n",
      "[info] 已点击\"侧边栏伸缩按钮\"，将等待2s，以便渲染网页内容\n"
     ]
    }
   ],
   "source": [
    "# 查找按钮\n",
    "try:\n",
    "    menu_toggler_button = driver.find_element(By.ID, 'menu-toggler')\n",
    "    \n",
    "    # 检查按钮是否可点击\n",
    "    if menu_toggler_button.is_enabled() and menu_toggler_button.is_displayed():\n",
    "        print(f'\\033[1;34m[info]\\033[0m \"侧边栏伸缩按钮\"可点击')\n",
    "        menu_toggler_button.click()\n",
    "        print(f'\\033[1;34m[info]\\033[0m 已点击\"侧边栏伸缩按钮\"，将等待{render_sleep_time}s，以便渲染网页内容')\n",
    "        time.sleep(render_sleep_time)\n",
    "    else:\n",
    "        print(f'\\033[1;33m[warning]\\033[0m \"侧边栏伸缩按钮\"不可点击或被隐藏')\n",
    "except Exception as e:\n",
    "    print(f'\\033[1;31m[info]\\033[0m 未找到\"侧边栏伸缩按钮\"或操作失败：{e}')\n",
    "    raise e\n",
    "    \n",
    "# 查找按钮"
   ]
  },
  {
   "cell_type": "markdown",
   "metadata": {},
   "source": [
    "进入\"选课管理\"的界面"
   ]
  },
  {
   "cell_type": "code",
   "execution_count": null,
   "metadata": {},
   "outputs": [
    {
     "name": "stdout",
     "output_type": "stream",
     "text": [
      "[info] \"选课管理\"链接可点击\n",
      "[info] 已点击\"选课管理\"链接，将等待2s，以便渲染网页内容\n"
     ]
    }
   ],
   "source": [
    "# 查找包含 \"选课管理\" 的 <span>，并定位其父元素 <a> 标签\n",
    "try:\n",
    "    course_management_link = driver.find_element(By.XPATH, '//span[contains(text(), \"选课管理\")]/parent::a')\n",
    "    \n",
    "    # 检查 <a> 标签是否可点击\n",
    "    if course_management_link.is_enabled() and course_management_link.is_displayed():\n",
    "        print(f'\\033[1;34m[info]\\033[0m \"选课管理\"链接可点击')\n",
    "        course_management_link.click()\n",
    "        print(f'\\033[1;34m[info]\\033[0m 已点击\"选课管理\"链接，将等待{render_sleep_time}s，以便渲染网页内容')\n",
    "        time.sleep(render_sleep_time)\n",
    "    else:\n",
    "        print(f'\\033[1;33m[warning]\\033[0m \"选课管理\"链接不可点击或被隐藏')\n",
    "except Exception as e:\n",
    "    print(f'\\033[1;31m[Error]\\033[0m 未找到\"选课管理\"链接或操作失败：{e}')\n",
    "    raise e"
   ]
  },
  {
   "cell_type": "markdown",
   "metadata": {},
   "source": [
    "进入\"选课\""
   ]
  },
  {
   "cell_type": "code",
   "execution_count": null,
   "metadata": {},
   "outputs": [
    {
     "name": "stdout",
     "output_type": "stream",
     "text": [
      "[info] \"选课\"链接可点击\n",
      "[info] 已点击\"选课\"链接，将等待2s，以便渲染网页内容\n"
     ]
    }
   ],
   "source": [
    "# 查找 href 包含 \"/student/courseSelect/courseSelect/index\" 的 <a> 标签\n",
    "try:\n",
    "    course_select_link = driver.find_element(By.XPATH, '//a[contains(@href, \"/student/courseSelect/courseSelect/index\")]')\n",
    "    \n",
    "    # 检查链接是否可点击\n",
    "    if course_select_link.is_enabled() and course_select_link.is_displayed():\n",
    "        print(f'\\033[1;34m[info]\\033[0m \"选课\"链接可点击')\n",
    "        course_select_link.click()\n",
    "        print(f'\\033[1;34m[info]\\033[0m 已点击\"选课\"链接，将等待{loading_sleep_time}s，以便渲染网页内容')\n",
    "        time.sleep(loading_sleep_time)\n",
    "    else:\n",
    "        print(f'\\033[1;33m[warning]\\033[0m \"选课\"链接不可点击或被隐藏')\n",
    "except Exception as e:\n",
    "    print(f'\\033[1;31m[Error]\\033[0m 未找到\"选课\"链接或操作失败：{e}')"
   ]
  },
  {
   "cell_type": "markdown",
   "metadata": {},
   "source": [
    "查看是否可以选课"
   ]
  },
  {
   "cell_type": "code",
   "execution_count": 27,
   "metadata": {},
   "outputs": [
    {
     "name": "stdout",
     "output_type": "stream",
     "text": [
      "[Success] 成功进入选课页面（未找到警告提示信息框）\n"
     ]
    }
   ],
   "source": [
    "try:\n",
    "    # 查找 class 为 \"alert alert-block alert-danger\" 的 <div> 标签\n",
    "    alert_div = driver.find_element(By.CLASS_NAME, 'alert.alert-block.alert-danger')\n",
    "    print(f'\\033[1;34m[info]\\033[0m 找到提示信息框')\n",
    "\n",
    "    # 检查 <div> 的内容是否包含 \"对不起，当前为非选课阶段！\"\n",
    "    if \"对不起，当前为非选课阶段！\" in alert_div.text:\n",
    "        print(f'\\033[1;34m[info]\\033[0m 提示信息内容：\\033[31m{alert_div.text.strip()}\\033[0m')\n",
    "\n",
    "        # 查找 <div> 中的关闭按钮\n",
    "        close_button = alert_div.find_element(By.XPATH, './/button[@type=\"button\" and contains(@class, \"close\")]')\n",
    "        \n",
    "        # 检查按钮是否可点击\n",
    "        if close_button.is_enabled() and close_button.is_displayed():\n",
    "            print(f'\\033[1;34m[info]\\033[0m 该提示信息有 可见并可点击的 关闭按钮')\n",
    "            # 抛出异常，内容为提示信息\n",
    "            e = alert_div.text.strip()\n",
    "            raise Exception(f\"{e} \\033[33m并不是脚本出错了！\\033[0m\")\n",
    "        else:\n",
    "            print(f'\\033[1;33m[warning]\\033[0m 关闭按钮不可点击或被隐藏')\n",
    "    else:\n",
    "        print(f'\\033[1;34m[info]\\033[0m 提示信息框内容不匹配')\n",
    "except NoSuchElementException:\n",
    "    print(f'\\033[1;32m[Success]\\033[0m 成功进入选课页面（未找到警告提示信息框）')\n",
    "except ElementNotInteractableException:\n",
    "    print(f'\\033[1;33m[warning]\\033[0m 关闭按钮不可交互')\n",
    "    raise e\n",
    "except Exception as e:\n",
    "    print(f'\\033[1;31m[Error]\\033[0m 发生异常：{e}')\n",
    "    raise e # 重新抛出异常\n"
   ]
  },
  {
   "cell_type": "markdown",
   "metadata": {},
   "source": [
    "进入自由选课页面"
   ]
  },
  {
   "cell_type": "code",
   "execution_count": 28,
   "metadata": {},
   "outputs": [
    {
     "name": "stdout",
     "output_type": "stream",
     "text": [
      "[info] 找到 \"自由选课\" 标签，准备点击\n",
      "[info] 已点击 \"自由选课\" 标签\n"
     ]
    }
   ],
   "source": [
    "# 查找 title 为 \"自由选课\" 的 <li> 标签并点击\n",
    "try:\n",
    "    # 使用 XPath 定位\n",
    "    free_course_li = driver.find_element(By.XPATH, '//li[@title=\"自由选课\"]')\n",
    "    \n",
    "    # 检查是否可点击\n",
    "    if free_course_li.is_enabled() and free_course_li.is_displayed():\n",
    "        print(f'\\033[1;34m[info]\\033[0m 找到 \"自由选课\" 标签，准备点击')\n",
    "        free_course_li.click()\n",
    "        print(f'\\033[1;34m[info]\\033[0m 已点击 \"自由选课\" 标签')\n",
    "    # else:\n",
    "    #     print(f'\\033[1;33m[warning]\\033[0m \"自由选课\" 标签不可点击或被隐藏')\n",
    "except Exception as e:\n",
    "    print(f'\\033[1;31m[Error]\\033[0m 未找到 \"自由选课\" 标签或点击失败：{e}')# 查找 title 为 \"自由选课\" 的 <li> 标签并点击\n"
   ]
  },
  {
   "cell_type": "markdown",
   "metadata": {},
   "source": [
    "切换到对应的iframe"
   ]
  },
  {
   "cell_type": "code",
   "execution_count": 29,
   "metadata": {},
   "outputs": [
    {
     "name": "stdout",
     "output_type": "stream",
     "text": [
      "[info] 已切换到 iframe\n"
     ]
    }
   ],
   "source": [
    "course_id_predix = config['course_id'].split('_')[0]  # 课程 ID 前缀\n",
    "# course_id_suffix = config['course_id'].split('_')[1]  # 课程 ID 后缀\n",
    "\n",
    "# 切换到 iframe\n",
    "try:\n",
    "    # 使用 iframe 的 id 或 name 切换到 iframe\n",
    "    iframe = driver.find_element(By.ID, 'ifra')\n",
    "    driver.switch_to.frame(iframe)\n",
    "    print(f'\\033[1;34m[info]\\033[0m 已切换到 iframe')\n",
    "except Exception as e:\n",
    "    print(f'\\033[1;31m[Error]\\033[0m 切换到 iframe 失败：{e}')\n",
    "    exit()\n",
    "\n",
    "# finally:\n",
    "#     # 切换回默认内容（主页面）\n",
    "#     driver.switch_to.default_content()\n",
    "#     print(f'\\033[1;34m[info]\\033[0m 已切换回主页面')"
   ]
  },
  {
   "cell_type": "markdown",
   "metadata": {},
   "source": [
    "找到课程号输入框，并输入"
   ]
  },
  {
   "cell_type": "code",
   "execution_count": 30,
   "metadata": {},
   "outputs": [
    {
     "name": "stdout",
     "output_type": "stream",
     "text": [
      "[info] 找到包含 \"课程号\" 的 div\n",
      "[info] 找到课程输入框，准备输入课程 ID\n",
      "[info] 已输入课程 ID 的前缀: 104026020\n"
     ]
    }
   ],
   "source": [
    "\n",
    "# 查找包含 \"课程号\" 的 div，并定位其下一个 div 中的输入框\n",
    "try:\n",
    "    # 查找包含 \"课程号\" 的 div\n",
    "    course_label_div = driver.find_element(By.XPATH, '//div[contains(text(), \"课程号\")]')\n",
    "    print(f'\\033[1;34m[info]\\033[0m 找到包含 \"课程号\" 的 div')\n",
    "\n",
    "    # 定位下一个 div 中的输入框\n",
    "    course_input = course_label_div.find_element(By.XPATH, './following-sibling::div//input[@type=\"text\"]')\n",
    "    \n",
    "    # 检查输入框是否可交互\n",
    "    if course_input.is_enabled() and course_input.is_displayed():\n",
    "        print(f'\\033[1;34m[info]\\033[0m 找到课程输入框，准备输入课程 ID')\n",
    "        course_input.clear()  # 清空输入框（可选）\n",
    "        course_input.send_keys(course_id_predix)  # 输入课程 ID 的前缀\n",
    "        print(f'\\033[1;34m[info]\\033[0m 已输入课程 ID 的前缀: {course_id_predix}')\n",
    "    else:\n",
    "        print(f'\\033[1;33m[warning]\\033[0m 课程输入框不可交互或被隐藏')\n",
    "except Exception as e:\n",
    "    print(f'\\033[1;31m[Error]\\033[0m 未找到输入框或输入失败：{e}')"
   ]
  },
  {
   "cell_type": "markdown",
   "metadata": {},
   "source": [
    "找到\"查询\"按钮，并查询"
   ]
  },
  {
   "cell_type": "code",
   "execution_count": 31,
   "metadata": {},
   "outputs": [
    {
     "name": "stdout",
     "output_type": "stream",
     "text": [
      "[info] 找到查询按钮，准备点击\n",
      "[info] 已点击查询按钮\n"
     ]
    }
   ],
   "source": [
    "# 查找 id 为 \"queryButton\" 的按钮并点击\n",
    "try:\n",
    "    # 使用 ID 定位按钮\n",
    "    query_button = driver.find_element(By.ID, 'queryButton')\n",
    "    \n",
    "    # 检查按钮是否可点击\n",
    "    if query_button.is_enabled() and query_button.is_displayed():\n",
    "        print(f'\\033[1;34m[info]\\033[0m 找到查询按钮，准备点击')\n",
    "        query_button.click()\n",
    "        print(f'\\033[1;34m[info]\\033[0m 已点击查询按钮')\n",
    "    else:\n",
    "        print(f'\\033[1;33m[warning]\\033[0m 查询按钮不可点击或被隐藏')\n",
    "except Exception as e:\n",
    "    print(f'\\033[1;31m[Error]\\033[0m 未找到查询按钮或点击失败：{e}')"
   ]
  },
  {
   "cell_type": "markdown",
   "metadata": {},
   "source": [
    "1. 找到\"未查询到记录！\"的提示，则等待5秒后重新点击查询\n",
    "2. 未找到此提示，尝试找到对应course_id的课程，并点击\"选课\""
   ]
  },
  {
   "cell_type": "code",
   "execution_count": 32,
   "metadata": {},
   "outputs": [
    {
     "name": "stdout",
     "output_type": "stream",
     "text": [
      "[info] 未找到 \"未查询到记录！\" 的提示信息"
     ]
    },
    {
     "name": "stdout",
     "output_type": "stream",
     "text": [
      "\n"
     ]
    }
   ],
   "source": [
    "# 查找内容包含 \"未查询到记录！\" 的 <td> 标签\n",
    "try:\n",
    "    # 使用 XPath 定位\n",
    "    no_record_td = driver.find_element(By.XPATH, '//td[contains(text(), \"未查询到记录！\")]')\n",
    "    print(f'\\033[1;34m[info]\\033[0m 找到提示信息：{no_record_td.text.strip()}')\n",
    "except NoSuchElementException:\n",
    "    print(f'\\033[1;34m[info]\\033[0m 未找到 \"未查询到记录！\" 的提示信息')\n",
    "except Exception as e:\n",
    "    print(f'\\033[1;31m[Error]\\033[0m 查找提示信息失败：{e}')\n",
    "    "
   ]
  },
  {
   "cell_type": "markdown",
   "metadata": {},
   "source": [
    "找到对应课程的\"选择\"按钮，并点击"
   ]
  },
  {
   "cell_type": "code",
   "execution_count": 33,
   "metadata": {},
   "outputs": [
    {
     "name": "stdout",
     "output_type": "stream",
     "text": [
      "[info] 找到包含课程 ID 104026020_01 的 <td> 标签\n"
     ]
    },
    {
     "name": "stdout",
     "output_type": "stream",
     "text": [
      "[info] 找到父标签 <tr>\n",
      "[info] 找到第一个 <td> 标签\n",
      "[info] 找到复选框，准备点击\n",
      "[info] 已点击复选框\n",
      "[info] 已切换回主页面\n"
     ]
    }
   ],
   "source": [
    "# 查找包含 config['course_id'] 的 <td> 标签\n",
    "try:\n",
    "    # 使用 XPath 定位包含 config['course_id'] 的 <td> 标签\n",
    "    course_td = driver.find_element(By.XPATH, f'//td[contains(text(), \"{config[\"course_id\"]}\")]')\n",
    "    print(f'\\033[1;34m[info]\\033[0m 找到包含课程 ID {config[\"course_id\"]} 的 <td> 标签')\n",
    "\n",
    "    # 找到其父标签 <tr>\n",
    "    course_tr = course_td.find_element(By.XPATH, './parent::tr')\n",
    "    print(f'\\033[1;34m[info]\\033[0m 找到父标签 <tr>')\n",
    "\n",
    "    # 找到 <tr> 下的第一个 <td> 标签\n",
    "    first_td = course_tr.find_element(By.XPATH, './/td[1]')\n",
    "    print(f'\\033[1;34m[info]\\033[0m 找到第一个 <td> 标签')\n",
    "\n",
    "    # 找到 <td> 下的 <label>  标签并点击\n",
    "    label_checkbox = first_td.find_element(By.XPATH, './/label')\n",
    "    if label_checkbox.is_enabled() and label_checkbox.is_displayed():\n",
    "        print(f'\\033[1;34m[info]\\033[0m 找到复选框，准备点击')\n",
    "        label_checkbox.click()\n",
    "        print(f'\\033[1;34m[info]\\033[0m 已点击复选框')\n",
    "        # 切换回默认内容（主页面） # 准备点击提交\n",
    "        driver.switch_to.default_content()\n",
    "        print(f'\\033[1;34m[info]\\033[0m 已切换回主页面')\n",
    "    else:\n",
    "        print(f'\\033[1;33m[warning]\\033[0m 复选框不可点击或被隐藏')\n",
    "except NoSuchElementException:\n",
    "    print(f'\\033[1;34m[info]\\033[0m 未找到包含课程 ID {config[\"course_id\"]} 的 <td> 标签')\n",
    "except Exception as e:\n",
    "    print(f'\\033[1;31m[Error]\\033[0m 操作失败：{e}')"
   ]
  },
  {
   "cell_type": "markdown",
   "metadata": {},
   "source": [
    "如果有验证码，识别并输入验证码"
   ]
  },
  {
   "cell_type": "code",
   "execution_count": null,
   "metadata": {},
   "outputs": [
    {
     "name": "stdout",
     "output_type": "stream",
     "text": [
      "[info] 已截取验证码图片\n",
      "[info] 已增强验证码图片对比度\n",
      "[info] 验证码识别结果：mb3d\n",
      "[info] 已输入验证码：mb3d\n"
     ]
    }
   ],
   "source": [
    "try:\n",
    "    # 最多尝试3次识别验证码\n",
    "    for i in range(3):\n",
    "        # 查找验证码图片\n",
    "        captcha_img_element = driver.find_element(By.XPATH, '//div[@id=\"yzm_area\"]//img')\n",
    "        \n",
    "        # 截取验证码图片\n",
    "        captcha_screenshot = captcha_img_element.screenshot_as_png\n",
    "        print(f'\\033[1;34m[info]\\033[0m 已截取验证码图片')\n",
    "\n",
    "        # 将截图转换为 PIL 图像\n",
    "        captcha_image = Image.open(BytesIO(captcha_screenshot))\n",
    "\n",
    "        # 增强图片对比度\n",
    "        enhancer = ImageEnhance.Contrast(captcha_image)\n",
    "        captcha_image = enhancer.enhance(2.0)  # 增强对比度，因子为 2.0\n",
    "        print(f'\\033[1;34m[info]\\033[0m 已增强验证码图片对比度')\n",
    "        captcha_image.show()  # 显示图片\n",
    "        # 识别验证码\n",
    "        check_code = ocr.classification(captcha_image)\n",
    "        print(f'\\033[1;34m[info]\\033[0m 验证码识别结果：{check_code}')\n",
    "        if len(check_code) == 4:\n",
    "            break\n",
    "        else:\n",
    "            print(f'\\033[1;33m[warning]\\033[0m 识别结果不是4位数，将重新识别')\n",
    "        captcha_img_element.click()  # 点击验证码图片，刷新验证码\n",
    "        time.sleep(config['render_sleep_time']) # 等待验证码刷新\n",
    "\n",
    "    # 输入验证码\n",
    "    submit_code_input = driver.find_element(By.ID, 'submitCode')\n",
    "    submit_code_input.clear()  # 清空输入框\n",
    "    submit_code_input.send_keys(check_code)  # 输入验证码\n",
    "    print(f'\\033[1;34m[info]\\033[0m 已输入验证码：{check_code}')\n",
    "except NoSuchElementException:\n",
    "    print(f'\\033[1;31m[Error]\\033[0m 未找到验证码图片或输入框')\n",
    "except Exception as e:\n",
    "    print(f'\\033[1;31m[Error]\\033[0m 操作失败：{e}')"
   ]
  },
  {
   "cell_type": "markdown",
   "metadata": {},
   "source": [
    "找到submitButton按钮并点击提交"
   ]
  },
  {
   "cell_type": "code",
   "execution_count": 72,
   "metadata": {},
   "outputs": [
    {
     "name": "stdout",
     "output_type": "stream",
     "text": [
      "[info] 找到提交按钮，准备点击\n",
      "[info] 已点击提交按钮\n"
     ]
    }
   ],
   "source": [
    "# 查找 id 为 \"submitButton\" 的按钮并点击\n",
    "try:\n",
    "    # 使用 ID 定位按钮\n",
    "    submit_button = driver.find_element(By.ID, 'submitButton')\n",
    "    \n",
    "    # 检查按钮是否可点击\n",
    "    if submit_button.is_enabled() and submit_button.is_displayed():\n",
    "        print(f'\\033[1;34m[info]\\033[0m 找到提交按钮，准备点击')\n",
    "        submit_button.click()\n",
    "        print(f'\\033[1;34m[info]\\033[0m 已点击提交按钮')\n",
    "    else:\n",
    "        print(f'\\033[1;33m[warning]\\033[0m 提交按钮不可点击或被隐藏')\n",
    "except Exception as e:\n",
    "    print(f'\\033[1;31m[Error]\\033[0m 未找到提交按钮或点击失败：{e}')"
   ]
  },
  {
   "cell_type": "markdown",
   "metadata": {},
   "source": [
    "### 选课失败"
   ]
  },
  {
   "cell_type": "code",
   "execution_count": 73,
   "metadata": {},
   "outputs": [
    {
     "name": "stdout",
     "output_type": "stream",
     "text": [
      "[info] 你选择的课程没有课余量！\n"
     ]
    }
   ],
   "source": [
    "try:\n",
    "    fail_to_grab_class = driver.find_element(By.XPATH, '//span[contains(text(), \"你选择的课程没有课余量！\")]')\n",
    "    print(f'\\033[1;34m[info]\\033[0m {fail_to_grab_class.text}')\n",
    "except NoSuchElementException:\n",
    "    print(f'\\033[1;32m[Success]\\033[0m 选课成功！')\n",
    "except Exception as e:\n",
    "    print(f'\\033[1;31m[Error]\\033[0m 选课失败：{e}')"
   ]
  },
  {
   "cell_type": "code",
   "execution_count": 15,
   "metadata": {},
   "outputs": [
    {
     "name": "stdout",
     "output_type": "stream",
     "text": [
      "[info] 未找到 \"返回\" 按钮\n"
     ]
    }
   ],
   "source": [
    "# 查找 title 为 \"返回\" 的 <button> 标签并点击\n",
    "try:\n",
    "    # 使用 XPath 定位\n",
    "    back_button = driver.find_element(By.XPATH, '//button[@title=\"返回\"]')\n",
    "    \n",
    "    # 检查按钮是否可点击\n",
    "    if back_button.is_enabled() and back_button.is_displayed():\n",
    "        print(f'\\033[1;34m[info]\\033[0m 找到 \"返回\" 按钮，准备点击')\n",
    "        back_button.click()\n",
    "        print(f'\\033[1;34m[info]\\033[0m 已点击 \"返回\" 按钮')\n",
    "    else:\n",
    "        print(f'\\033[1;33m[warning]\\033[0m \"返回\" 按钮不可点击或被隐藏')\n",
    "except NoSuchElementException:\n",
    "    print(f'\\033[1;34m[info]\\033[0m 未找到 \"返回\" 按钮')\n",
    "except Exception as e:\n",
    "    print(f'\\033[1;31m[Error]\\033[0m 点击 \"返回\" 按钮失败：{e}')"
   ]
  },
  {
   "cell_type": "markdown",
   "metadata": {},
   "source": [
    "### 循环至出现验证码"
   ]
  },
  {
   "cell_type": "markdown",
   "metadata": {},
   "source": [
    "### 选课成功"
   ]
  }
 ],
 "metadata": {
  "kernelspec": {
   "display_name": "base",
   "language": "python",
   "name": "python3"
  },
  "language_info": {
   "codemirror_mode": {
    "name": "ipython",
    "version": 3
   },
   "file_extension": ".py",
   "mimetype": "text/x-python",
   "name": "python",
   "nbconvert_exporter": "python",
   "pygments_lexer": "ipython3",
   "version": "3.12.7"
  }
 },
 "nbformat": 4,
 "nbformat_minor": 2
}
